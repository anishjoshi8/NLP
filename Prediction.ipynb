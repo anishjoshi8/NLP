import pandas as pd 
import pyap
from sklearn.utils import shuffle
import logging
import numpy as np
from numpy import random
import gensim
import nltk
from sklearn.model_selection import train_test_split
from sklearn.feature_extraction.text import CountVectorizer, TfidfVectorizer
from sklearn.metrics import accuracy_score, confusion_matrix
import matplotlib.pyplot as plt
from nltk.corpus import stopwords
import re
from bs4 import BeautifulSoup
%matplotlib inline


  
# read an excel file and convert  
# into a dataframe object 
df_train = pd.read_excel (open('PII_Train_Large_Data_Test_Data.xlsx', 'rb'),
                sheet_name='PII Train Large Data - PII Trai')
df_train.to_csv ('Train.csv', index = None)
df_train = pd.read_csv('Train.csv') 
df_train = pd.DataFrame(pd.read_csv('Train.csv'))


df_test = pd.read_excel(open('Test.xlsx', 'rb'),
               sheet_name='Sheet1') 
df_test = df_test.to_csv(r'Test.csv', index = None, header=True)

df_test = pd.read_csv('Test.csv')

new_header = df_train.iloc[0] #grab the first row for the header
df_train = df_train[1:] #take the data less the header row
df_train.columns = new_header
df_train = df_train.reset_index(drop=True)


X = df_train.PII
y = df_train.Labels
X_train, X_test, y_train, y_test = train_test_split(X, y, test_size=0.2, random_state = 42)
X, y = shuffle(X, y)


#Multinomial Naive Bayes


from sklearn.naive_bayes import MultinomialNB
from sklearn.pipeline import Pipeline
from sklearn.feature_extraction.text import TfidfTransformer

nb = Pipeline([('vect', CountVectorizer()),
               ('tfidf', TfidfTransformer()),
               ('clf', MultinomialNB()),
              ])
nb.fit(X_train, y_train)


from sklearn.metrics import classification_report
y_pred = nb.predict(X_test)

print('accuracy %s' % accuracy_score(y_pred, y_test))


##Accuracy Achieved: 83.62%

"""Apply the model to test data and convert the result into an excel sheet"""

file_name = 'Predictions.xlsx'
df_test.to_excel(file_name)






