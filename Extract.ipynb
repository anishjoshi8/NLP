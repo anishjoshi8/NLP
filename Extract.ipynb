import pandas as pd 
import lexnlp.extract.en.pii
from lexnlp.extract.en.addresses import address_features
from lexnlp.extract.en.addresses import addresses
import re

#Let's first import the excel file and convert it into a csv and then into a dataframe

df = pd.read_excel (open('PII_Train_Large_Data_Test_Data.xlsx', 'rb'),
                sheet_name='PII Test Data - PII Test Data')
df.to_csv ('Test.csv', index = None)
df = pd.read_csv('Test.csv') 
# df.drop("0",axis=1,inplace=True)
df = pd.DataFrame(pd.read_csv('Test_Data.csv'))

new_header = df.iloc[0] #grab the first row for the header
df = df[1:] #take the data less the header row
df.columns = new_header
df = df.reset_index(drop=True)
df.head()


"""
Following section defines functions that extract PII like: SSN, Email, CreditCardNumber, Plate, Adress, PhoneNumber and Name respectively
	
	Extraction is done using a combination of NER, LexNLP and regular expressions. NER helps to distinguish between a person name and a 		location name

	lexnlp is a library that can extract pii like: Name, Number and SSN

	Regular expression is used to handle edge cases or places where the library fails

"""

#Extract SSN

def SSN(text):

  result1 = list(lexnlp.extract.en.pii.get_pii(text))
  if not len(list(lexnlp.extract.en.pii.get_pii(text))):
    result = re.findall('(\d{3}(?:-|\s|.)\d{1,3}(?:-|\s|.)\d{4})',text)
  # elif re.search('x\d+',text):
  #   result = re.findall('(x\d+)',text)
  else:
    result = (list(lis[-1] for lis in result1))
  return result

#Extract Email

def Email(text):
  return re.findall('(\S+@\S+)',text)

#Extract CreditCard

def CreditCard(text):
  return re.findall('(\d{16})',text)

#Extract Plate Number

def Plate(text):
  return re.findall("(?:[A-Z]+(?:-|\s)\d+\s)|(?:\d{3}(?:-|\s)[A-Z]+)|(?:[A-Z]+(?:\s)\d+)|(?:\d+[A-Z]+\d+)|(?:[A-Z]+\d+)",text)

#Extract Address 

import lexnlp.extract.en.pii
import re
from lexnlp.extract.en.addresses import address_features
from lexnlp.extract.en.addresses import addresses
def Address(text):
  Address = list(lexnlp.extract.en.addresses.addresses.get_addresses(text))
  if not len(Address):
    result = re.findall("(?:Apt\.?\s?\d+)|(?:Suite \d+)|(?:\d+\s[A-Z][a-z]+\s[A-Z][a-z]+)|(?:[A-Z]+\s\w+\s\d+)", text)
  else:
    result = Address
  return result


#Extract Name - I have used spacy to extract the name

spacy_nlp  = spacy.load('en_core_web_sm')
Name1 = []
def Name(text) :
    doc = spacy_nlp(text.strip())
    named_entities = []
    for i in doc.ents:
        entry = str(i.lemma_).lower()
        text = text.replace(str(i).lower(), "")
        if i.label_ == "PERSON":
          named_entities.append(entry.title())
    return(list(named_entities))




"""Following Section simply creates a list that gets the extracted values from the "text" column and inserts it as a column into the dataframe"""

PII2 = []

for text in df["Text"]:
  # PII2.insert(len(PII2),Name(text))
  if re.search('\@',text):
    PII2.append(Email(text))
  elif re.search('\d{16}',text):
    PII2.append(CreditCard(text))
  elif re.search('(?:Apt\.?\s?\d+)|(?:Suite \d+)|(?:\d+\s[A-Z][a-z]+\s[A-Z][a-z]+)',text):
    PII2.append(Address(text))
  elif re.search('(?:\d{3}(?:-|\s|.)\d{1,3})',text):
    PII2.append(SSN(text))
  elif not (re.search('\d+',text)):
    PII2.append(Name(text))
  elif (re.search('\d{1,5}',text)):
    PII2.append(Plate(text))
  else:
    PII2.append('None')

df['PII'] = PII2



#Here we want to remove square brackets and unnecessary punctuations before insertion

df['PII2'] = df['PII2'].astype(str).str.replace(r'\[|\]|\'|,', '')
df.replace('', 'None ')


#Save dataframe to excel

file_name = 'Test.xlsx'
df.to_excel(file_name) 